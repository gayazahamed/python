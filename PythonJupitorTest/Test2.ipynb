{
 "cells": [
  {
   "cell_type": "code",
   "execution_count": 2,
   "id": "c4433b1b",
   "metadata": {},
   "outputs": [
    {
     "name": "stdout",
     "output_type": "stream",
     "text": [
      "enter your phone number9898989898\n"
     ]
    },
    {
     "data": {
      "text/plain": [
       "str"
      ]
     },
     "execution_count": 2,
     "metadata": {},
     "output_type": "execute_result"
    }
   ],
   "source": [
    "var1 = input('enter your phone number')\n",
    "var1\n",
    "type(var1)"
   ]
  },
  {
   "cell_type": "code",
   "execution_count": 22,
   "id": "02720fb4",
   "metadata": {},
   "outputs": [
    {
     "name": "stdout",
     "output_type": "stream",
     "text": [
      "for loop 9\n",
      "for loop 17\n",
      "for loop 26\n",
      "for loop 34\n",
      "for loop 43\n",
      "for loop 51\n",
      "for loop 60\n",
      "for loop 68\n",
      "for loop 77\n",
      "for loop 85\n",
      "85\n",
      "for loop 8\n",
      "for loop 13\n",
      "13\n",
      "for loop 1\n",
      "for loop 4\n",
      "4\n"
     ]
    }
   ],
   "source": [
    "var1 = '9898989898'\n",
    "count = int(var1) \n",
    "\n",
    "while ( count > 9):\n",
    "    count = 0\n",
    "    for st in var1:\n",
    "        #print(st)\n",
    "        #print    (type(st))\n",
    "        count = int(st)+count\n",
    "        print(\"for loop \"+str(count))\n",
    "    else:\n",
    "        var1 = str(count)\n",
    "        print(count)\n",
    "    "
   ]
  },
  {
   "cell_type": "code",
   "execution_count": null,
   "id": "6a9cfa38",
   "metadata": {},
   "outputs": [],
   "source": []
  }
 ],
 "metadata": {
  "kernelspec": {
   "display_name": "Python 3 (ipykernel)",
   "language": "python",
   "name": "python3"
  },
  "language_info": {
   "codemirror_mode": {
    "name": "ipython",
    "version": 3
   },
   "file_extension": ".py",
   "mimetype": "text/x-python",
   "name": "python",
   "nbconvert_exporter": "python",
   "pygments_lexer": "ipython3",
   "version": "3.9.12"
  }
 },
 "nbformat": 4,
 "nbformat_minor": 5
}
