{
 "cells": [
  {
   "cell_type": "code",
   "execution_count": 32,
   "metadata": {},
   "outputs": [
    {
     "name": "stdout",
     "output_type": "stream",
     "text": [
      "    Duration  Pulse  Maxpulse  Calories\n",
      "0       60.0    110     130.0     409.1\n",
      "1       30.0    109     133.0     195.1\n",
      "2       45.0     90     112.0       NaN\n",
      "3       60.0    103     123.0     323.0\n",
      "4       45.0     97     125.0     243.0\n",
      "5       60.0    108       NaN     364.2\n",
      "6       60.0    100     120.0     250.0\n",
      "7       60.0     92     118.0     241.0\n",
      "8       60.0    103     132.0       NaN\n",
      "9       60.0    100     132.0     280.0\n",
      "10      45.0    107     137.0       NaN\n",
      "11      30.0     90     107.0     105.3\n",
      "12     180.0     90     120.0     800.3\n",
      "13      60.0    105     125.0       NaN\n",
      "14      60.0    103     124.0     332.7\n",
      "15      60.0     97     127.0       NaN\n",
      "16      45.0    100     120.0     250.4\n",
      "17       NaN    114     150.0     382.8\n",
      "18      30.0     80     120.0     240.9\n",
      "19      45.0    100     140.0     280.9\n",
      "20      60.0    105     140.0     290.8\n"
     ]
    }
   ],
   "source": [
    "import pandas as pd\n",
    "\n",
    "df = pd.read_csv('data.csv')\n",
    "\n",
    "print(df.to_string())"
   ]
  },
  {
   "cell_type": "code",
   "execution_count": 37,
   "metadata": {},
   "outputs": [
    {
     "data": {
      "text/plain": [
       "Duration     60.0\n",
       "Pulse       103.0\n",
       "Maxpulse    123.0\n",
       "Calories    323.0\n",
       "Name: 3, dtype: float64"
      ]
     },
     "execution_count": 37,
     "metadata": {},
     "output_type": "execute_result"
    }
   ],
   "source": [
    "df.iloc[3]"
   ]
  },
  {
   "cell_type": "code",
   "execution_count": 43,
   "metadata": {},
   "outputs": [
    {
     "data": {
      "text/plain": [
       "0      60.0\n",
       "1      30.0\n",
       "2      45.0\n",
       "3      60.0\n",
       "4      45.0\n",
       "5      60.0\n",
       "6      60.0\n",
       "7      60.0\n",
       "8      60.0\n",
       "9      60.0\n",
       "10     45.0\n",
       "11     30.0\n",
       "12    180.0\n",
       "13     60.0\n",
       "14     60.0\n",
       "15     60.0\n",
       "16     45.0\n",
       "17      NaN\n",
       "18     30.0\n",
       "19     45.0\n",
       "20     60.0\n",
       "Name: Duration, dtype: float64"
      ]
     },
     "execution_count": 43,
     "metadata": {},
     "output_type": "execute_result"
    }
   ],
   "source": [
    "df.iloc[:,0]"
   ]
  },
  {
   "cell_type": "code",
   "execution_count": 40,
   "metadata": {},
   "outputs": [
    {
     "data": {
      "text/html": [
       "<div>\n",
       "<style scoped>\n",
       "    .dataframe tbody tr th:only-of-type {\n",
       "        vertical-align: middle;\n",
       "    }\n",
       "\n",
       "    .dataframe tbody tr th {\n",
       "        vertical-align: top;\n",
       "    }\n",
       "\n",
       "    .dataframe thead th {\n",
       "        text-align: right;\n",
       "    }\n",
       "</style>\n",
       "<table border=\"1\" class=\"dataframe\">\n",
       "  <thead>\n",
       "    <tr style=\"text-align: right;\">\n",
       "      <th></th>\n",
       "      <th>Duration</th>\n",
       "      <th>Maxpulse</th>\n",
       "      <th>Calories</th>\n",
       "    </tr>\n",
       "  </thead>\n",
       "  <tbody>\n",
       "    <tr>\n",
       "      <th>0</th>\n",
       "      <td>60.0</td>\n",
       "      <td>130.0</td>\n",
       "      <td>409.1</td>\n",
       "    </tr>\n",
       "    <tr>\n",
       "      <th>1</th>\n",
       "      <td>30.0</td>\n",
       "      <td>133.0</td>\n",
       "      <td>195.1</td>\n",
       "    </tr>\n",
       "    <tr>\n",
       "      <th>2</th>\n",
       "      <td>45.0</td>\n",
       "      <td>112.0</td>\n",
       "      <td>NaN</td>\n",
       "    </tr>\n",
       "    <tr>\n",
       "      <th>3</th>\n",
       "      <td>60.0</td>\n",
       "      <td>123.0</td>\n",
       "      <td>323.0</td>\n",
       "    </tr>\n",
       "    <tr>\n",
       "      <th>4</th>\n",
       "      <td>45.0</td>\n",
       "      <td>125.0</td>\n",
       "      <td>243.0</td>\n",
       "    </tr>\n",
       "    <tr>\n",
       "      <th>5</th>\n",
       "      <td>60.0</td>\n",
       "      <td>NaN</td>\n",
       "      <td>364.2</td>\n",
       "    </tr>\n",
       "    <tr>\n",
       "      <th>6</th>\n",
       "      <td>60.0</td>\n",
       "      <td>120.0</td>\n",
       "      <td>250.0</td>\n",
       "    </tr>\n",
       "    <tr>\n",
       "      <th>7</th>\n",
       "      <td>60.0</td>\n",
       "      <td>118.0</td>\n",
       "      <td>241.0</td>\n",
       "    </tr>\n",
       "    <tr>\n",
       "      <th>8</th>\n",
       "      <td>60.0</td>\n",
       "      <td>132.0</td>\n",
       "      <td>NaN</td>\n",
       "    </tr>\n",
       "    <tr>\n",
       "      <th>9</th>\n",
       "      <td>60.0</td>\n",
       "      <td>132.0</td>\n",
       "      <td>280.0</td>\n",
       "    </tr>\n",
       "    <tr>\n",
       "      <th>10</th>\n",
       "      <td>45.0</td>\n",
       "      <td>137.0</td>\n",
       "      <td>NaN</td>\n",
       "    </tr>\n",
       "    <tr>\n",
       "      <th>11</th>\n",
       "      <td>30.0</td>\n",
       "      <td>107.0</td>\n",
       "      <td>105.3</td>\n",
       "    </tr>\n",
       "    <tr>\n",
       "      <th>12</th>\n",
       "      <td>180.0</td>\n",
       "      <td>120.0</td>\n",
       "      <td>800.3</td>\n",
       "    </tr>\n",
       "    <tr>\n",
       "      <th>13</th>\n",
       "      <td>60.0</td>\n",
       "      <td>125.0</td>\n",
       "      <td>NaN</td>\n",
       "    </tr>\n",
       "    <tr>\n",
       "      <th>14</th>\n",
       "      <td>60.0</td>\n",
       "      <td>124.0</td>\n",
       "      <td>332.7</td>\n",
       "    </tr>\n",
       "    <tr>\n",
       "      <th>15</th>\n",
       "      <td>60.0</td>\n",
       "      <td>127.0</td>\n",
       "      <td>NaN</td>\n",
       "    </tr>\n",
       "    <tr>\n",
       "      <th>16</th>\n",
       "      <td>45.0</td>\n",
       "      <td>120.0</td>\n",
       "      <td>250.4</td>\n",
       "    </tr>\n",
       "    <tr>\n",
       "      <th>17</th>\n",
       "      <td>NaN</td>\n",
       "      <td>150.0</td>\n",
       "      <td>382.8</td>\n",
       "    </tr>\n",
       "    <tr>\n",
       "      <th>18</th>\n",
       "      <td>30.0</td>\n",
       "      <td>120.0</td>\n",
       "      <td>240.9</td>\n",
       "    </tr>\n",
       "    <tr>\n",
       "      <th>19</th>\n",
       "      <td>45.0</td>\n",
       "      <td>140.0</td>\n",
       "      <td>280.9</td>\n",
       "    </tr>\n",
       "    <tr>\n",
       "      <th>20</th>\n",
       "      <td>60.0</td>\n",
       "      <td>140.0</td>\n",
       "      <td>290.8</td>\n",
       "    </tr>\n",
       "  </tbody>\n",
       "</table>\n",
       "</div>"
      ],
      "text/plain": [
       "    Duration  Maxpulse  Calories\n",
       "0       60.0     130.0     409.1\n",
       "1       30.0     133.0     195.1\n",
       "2       45.0     112.0       NaN\n",
       "3       60.0     123.0     323.0\n",
       "4       45.0     125.0     243.0\n",
       "5       60.0       NaN     364.2\n",
       "6       60.0     120.0     250.0\n",
       "7       60.0     118.0     241.0\n",
       "8       60.0     132.0       NaN\n",
       "9       60.0     132.0     280.0\n",
       "10      45.0     137.0       NaN\n",
       "11      30.0     107.0     105.3\n",
       "12     180.0     120.0     800.3\n",
       "13      60.0     125.0       NaN\n",
       "14      60.0     124.0     332.7\n",
       "15      60.0     127.0       NaN\n",
       "16      45.0     120.0     250.4\n",
       "17       NaN     150.0     382.8\n",
       "18      30.0     120.0     240.9\n",
       "19      45.0     140.0     280.9\n",
       "20      60.0     140.0     290.8"
      ]
     },
     "execution_count": 40,
     "metadata": {},
     "output_type": "execute_result"
    }
   ],
   "source": [
    "df = pd.read_csv('data.csv')\n",
    "del df['Pulse']\n",
    "df"
   ]
  },
  {
   "cell_type": "code",
   "execution_count": 39,
   "metadata": {},
   "outputs": [
    {
     "data": {
      "text/plain": [
       "Duration     45.0\n",
       "Pulse       100.0\n",
       "Maxpulse    140.0\n",
       "Calories    280.9\n",
       "Name: 19, dtype: float64"
      ]
     },
     "execution_count": 39,
     "metadata": {},
     "output_type": "execute_result"
    }
   ],
   "source": [
    "df.iloc[19]"
   ]
  },
  {
   "cell_type": "code",
   "execution_count": 48,
   "metadata": {},
   "outputs": [],
   "source": [
    " \n",
    "df.to_csv(\"test.csv\")\n",
    " "
   ]
  },
  {
   "cell_type": "code",
   "execution_count": 49,
   "metadata": {},
   "outputs": [
    {
     "name": "stdout",
     "output_type": "stream",
     "text": [
      "    Duration  Maxpulse  Calories\n",
      "0       60.0     130.0     409.1\n",
      "1       30.0     133.0     195.1\n",
      "2       45.0     112.0       NaN\n",
      "3       60.0     123.0     323.0\n",
      "4       45.0     125.0     243.0\n",
      "5       60.0       NaN     364.2\n",
      "6       60.0     120.0     250.0\n",
      "7       60.0     118.0     241.0\n",
      "8       60.0     132.0       NaN\n",
      "9       60.0     132.0     280.0\n",
      "10      45.0     137.0       NaN\n",
      "11      30.0     107.0     105.3\n",
      "12     180.0     120.0     800.3\n",
      "13      60.0     125.0       NaN\n",
      "14      60.0     124.0     332.7\n",
      "15      60.0     127.0       NaN\n",
      "16      45.0     120.0     250.4\n",
      "17       NaN     150.0     382.8\n",
      "18      30.0     120.0     240.9\n",
      "19      45.0     140.0     280.9\n",
      "20      60.0     140.0     290.8\n"
     ]
    }
   ],
   "source": [
    "f = open(\"demofile3.txt\", \"w\")\n",
    "f.write(df.to_string())\n",
    "f.close()\n",
    "\n",
    "#open and read the file after the appending:\n",
    "f = open(\"demofile3.txt\", \"r\")\n",
    "print(f.read())"
   ]
  },
  {
   "cell_type": "code",
   "execution_count": 14,
   "metadata": {},
   "outputs": [
    {
     "name": "stdout",
     "output_type": "stream",
     "text": [
      "    name  rate\n",
      "0    one     1\n",
      "1    two     2\n",
      "2  thre      3\n",
      "Maximum value of column  rate  and its corresponding row values:\n",
      " name    thre \n",
      "rate        3\n",
      "Name: 2, dtype: object\n"
     ]
    },
    {
     "data": {
      "text/plain": [
       "pandas.core.series.Series"
      ]
     },
     "execution_count": 14,
     "metadata": {},
     "output_type": "execute_result"
    }
   ],
   "source": [
    "import pandas as pd\n",
    "\n",
    "df = pd.read_csv('bill2.csv')\n",
    "#df[\"rate\"] = df[\"rate\"].str.replace(\"$\",\"\")\n",
    "\n",
    "print(df.to_string())\n",
    "max_x = df.loc[df['rate'].idxmax()]\n",
    "print (\"Maximum value of column \", 'rate', \" and its corresponding row values:\\n\", max_x)\n",
    "\n",
    "type(max_x)"
   ]
  },
  {
   "cell_type": "code",
   "execution_count": 46,
   "metadata": {},
   "outputs": [
    {
     "name": "stdout",
     "output_type": "stream",
     "text": [
      "Maximum value of column  rate  and its corresponding row values:\n",
      " name    Data Scientist - Lead 8+ Years \n",
      "rate                                170\n",
      "Name: 322, dtype: object\n"
     ]
    }
   ],
   "source": [
    "import pandas as pd\n",
    "\n",
    "df = pd.read_csv('bill.csv') \n",
    "df[\"rate\"] = df[\"rate\"].str.replace(\"$\",\"\")\n",
    "\n",
    "#print(df.to_string())\n",
    "\n",
    "\"\"\"\n",
    "df3= df['rate'].str.isnumeric()\n",
    "df['rate'].to_csv(\"new.csv\")\n",
    "df4 = df.query(\"rate == '32'\")\n",
    "df4\n",
    " \n",
    "\n",
    "type(max_x)\n",
    "\"\"\"\n",
    "df.dropna(inplace=True)\n",
    "df[\"rate\"] = pd.to_numeric(df[\"rate\"])\n",
    "max_x = df.loc[df['rate'].astype(int).idxmax()]\n",
    "\n",
    "print (\"Maximum value of column \", 'rate', \" and its corresponding row values:\\n\", max_x)\n"
   ]
  },
  {
   "cell_type": "code",
   "execution_count": null,
   "metadata": {},
   "outputs": [],
   "source": []
  },
  {
   "cell_type": "code",
   "execution_count": null,
   "metadata": {},
   "outputs": [],
   "source": []
  }
 ],
 "metadata": {
  "kernelspec": {
   "display_name": "Python 3 (ipykernel)",
   "language": "python",
   "name": "python3"
  },
  "language_info": {
   "codemirror_mode": {
    "name": "ipython",
    "version": 3
   },
   "file_extension": ".py",
   "mimetype": "text/x-python",
   "name": "python",
   "nbconvert_exporter": "python",
   "pygments_lexer": "ipython3",
   "version": "3.9.12"
  }
 },
 "nbformat": 4,
 "nbformat_minor": 4
}
