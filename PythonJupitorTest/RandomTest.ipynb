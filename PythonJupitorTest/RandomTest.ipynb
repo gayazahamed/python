{
 "cells": [
  {
   "cell_type": "code",
   "execution_count": 4,
   "metadata": {},
   "outputs": [
    {
     "name": "stdout",
     "output_type": "stream",
     "text": [
      "[5 9 3 9 5 7 3 9 9 9 3 5 9 7 9 3 9 5 5 9 9 3 7 3 7 3 9 3 7 3 5 7 5 9 3 7 7\n",
      " 9 3 9 9 9 3 7 5 7 5 7 7 7 9 7 5 5 5 5 5 5 9 9 7 3 5 5 9 5 7 5 7 9 5 5 3 5\n",
      " 9 3 7 5 3 5 9 3 5 7 5 5 3 7 9 5 7 7 9 5 9 5 7 5 3 5]\n",
      "['A', 'D', 'B', 'D', 'B', 'A', 'C', 'A', 'D', 'A']\n"
     ]
    }
   ],
   "source": [
    "from numpy import random\n",
    "import random as rd\n",
    "\n",
    "x = random.choice([3, 5, 7, 9], size=(100))\n",
    "\n",
    "print(x)\n",
    "\n",
    "\n",
    "\n",
    "\n",
    "\n",
    "x= [ rd.choice('ABCD') for y in range(10) ]\n",
    "\n",
    "print(x)\n"
   ]
  },
  {
   "cell_type": "code",
   "execution_count": null,
   "metadata": {},
   "outputs": [],
   "source": []
  }
 ],
 "metadata": {
  "kernelspec": {
   "display_name": "Python 3",
   "language": "python",
   "name": "python3"
  },
  "language_info": {
   "codemirror_mode": {
    "name": "ipython",
    "version": 3
   },
   "file_extension": ".py",
   "mimetype": "text/x-python",
   "name": "python",
   "nbconvert_exporter": "python",
   "pygments_lexer": "ipython3",
   "version": "3.8.5"
  }
 },
 "nbformat": 4,
 "nbformat_minor": 4
}
