{
 "cells": [
  {
   "cell_type": "code",
   "execution_count": 6,
   "id": "e597776c",
   "metadata": {},
   "outputs": [
    {
     "name": "stdout",
     "output_type": "stream",
     "text": [
      "10\n",
      "11\n",
      "12\n",
      "13\n",
      "14\n",
      "15\n",
      "16\n",
      "17\n",
      "18\n",
      "19\n"
     ]
    }
   ],
   "source": [
    "for i in range(10,20):\n",
    " print(i)"
   ]
  },
  {
   "cell_type": "code",
   "execution_count": 7,
   "id": "77d3aa34",
   "metadata": {},
   "outputs": [
    {
     "name": "stdout",
     "output_type": "stream",
     "text": [
      "k\n"
     ]
    }
   ],
   "source": [
    " print('k')"
   ]
  },
  {
   "cell_type": "code",
   "execution_count": 12,
   "id": "df9dd9eb",
   "metadata": {},
   "outputs": [
    {
     "name": "stdout",
     "output_type": "stream",
     "text": [
      "70\n",
      "35\n"
     ]
    }
   ],
   "source": [
    "def func2(a):\n",
    "    \n",
    "    while a != 0 :\n",
    "        if(a%5 == 0 and a%7==0):\n",
    "            print(a)\n",
    "        a=a-1\n",
    "\n",
    "        \n",
    "func2(100)"
   ]
  },
  {
   "cell_type": "code",
   "execution_count": 11,
   "id": "f09fd640",
   "metadata": {},
   "outputs": [
    {
     "ename": "SyntaxError",
     "evalue": "invalid syntax (313805310.py, line 1)",
     "output_type": "error",
     "traceback": [
      "\u001b[1;36m  Input \u001b[1;32mIn [11]\u001b[1;36m\u001b[0m\n\u001b[1;33m    def abc(*a)\u001b[0m\n\u001b[1;37m               ^\u001b[0m\n\u001b[1;31mSyntaxError\u001b[0m\u001b[1;31m:\u001b[0m invalid syntax\n"
     ]
    }
   ],
   "source": [
    "def abc(*a)\n",
    "    print(a)\n",
    "    \n",
    "abc(1,2,3)"
   ]
  },
  {
   "cell_type": "code",
   "execution_count": 2,
   "id": "60e4ec3c",
   "metadata": {},
   "outputs": [
    {
     "name": "stdout",
     "output_type": "stream",
     "text": [
      "70\n",
      "35\n"
     ]
    }
   ],
   "source": [
    "import test\n",
    "test.func20(100)"
   ]
  },
  {
   "cell_type": "code",
   "execution_count": 8,
   "id": "97a2794f",
   "metadata": {},
   "outputs": [
    {
     "name": "stdout",
     "output_type": "stream",
     "text": [
      "980\n",
      "945\n",
      "910\n",
      "875\n",
      "840\n",
      "805\n",
      "770\n",
      "735\n",
      "700\n",
      "665\n",
      "630\n",
      "595\n",
      "560\n",
      "525\n",
      "490\n",
      "455\n",
      "420\n",
      "385\n",
      "350\n",
      "315\n",
      "280\n",
      "245\n",
      "210\n",
      "175\n",
      "140\n",
      "105\n",
      "70\n",
      "35\n"
     ]
    }
   ],
   "source": [
    "import os\n",
    "\n",
    "#os.chdir(\"C:\\\\Users\\\\Adil\")\n",
    "\n",
    "import test1\n",
    "test1.func20(1000)"
   ]
  },
  {
   "cell_type": "code",
   "execution_count": null,
   "id": "81b2a6f9",
   "metadata": {},
   "outputs": [],
   "source": []
  }
 ],
 "metadata": {
  "kernelspec": {
   "display_name": "Python 3 (ipykernel)",
   "language": "python",
   "name": "python3"
  },
  "language_info": {
   "codemirror_mode": {
    "name": "ipython",
    "version": 3
   },
   "file_extension": ".py",
   "mimetype": "text/x-python",
   "name": "python",
   "nbconvert_exporter": "python",
   "pygments_lexer": "ipython3",
   "version": "3.9.12"
  }
 },
 "nbformat": 4,
 "nbformat_minor": 5
}
