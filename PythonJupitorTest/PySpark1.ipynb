{
 "cells": [
  {
   "cell_type": "code",
   "execution_count": 1,
   "id": "a347492e",
   "metadata": {},
   "outputs": [
    {
     "name": "stdout",
     "output_type": "stream",
     "text": [
      "Defaulting to user installation because normal site-packages is not writeable\n",
      "Requirement already satisfied: pyspark in c:\\users\\adil\\appdata\\roaming\\python\\python39\\site-packages (3.5.1)\n",
      "Requirement already satisfied: py4j==0.10.9.7 in c:\\users\\adil\\appdata\\roaming\\python\\python39\\site-packages (from pyspark) (0.10.9.7)\n",
      "Note: you may need to restart the kernel to use updated packages.\n"
     ]
    }
   ],
   "source": [
    "pip install pyspark"
   ]
  },
  {
   "cell_type": "code",
   "execution_count": 2,
   "id": "89d3cc33",
   "metadata": {},
   "outputs": [
    {
     "name": "stdout",
     "output_type": "stream",
     "text": [
      "Pyspark\n"
     ]
    }
   ],
   "source": [
    "print('Pyspark');\n",
    "import pyspark\n",
    "#pyspark --version"
   ]
  },
  {
   "cell_type": "code",
   "execution_count": 3,
   "id": "0f4ebdae",
   "metadata": {},
   "outputs": [
    {
     "name": "stdout",
     "output_type": "stream",
     "text": [
      "The PySpark 3.5.1 version is running...\n"
     ]
    }
   ],
   "source": [
    "import pyspark\n",
    "from pyspark.sql import SparkSession\n",
    "\n",
    "# Create SparkSession\n",
    "spark = SparkSession.builder.master(\"local[*]\") \\\n",
    "                    .appName('BigData-ETL.com') \\\n",
    "                    .getOrCreate()\n",
    "\n",
    "print(f'The PySpark {spark.version} version is running...')"
   ]
  },
  {
   "cell_type": "code",
   "execution_count": 9,
   "id": "0e3f347b",
   "metadata": {},
   "outputs": [
    {
     "data": {
      "text/html": [
       "\n",
       "            <div>\n",
       "                <p><b>SparkSession - in-memory</b></p>\n",
       "                \n",
       "        <div>\n",
       "            <p><b>SparkContext</b></p>\n",
       "\n",
       "            <p><a href=\"http://host.docker.internal:4040\">Spark UI</a></p>\n",
       "\n",
       "            <dl>\n",
       "              <dt>Version</dt>\n",
       "                <dd><code>v3.5.1</code></dd>\n",
       "              <dt>Master</dt>\n",
       "                <dd><code>local[*]</code></dd>\n",
       "              <dt>AppName</dt>\n",
       "                <dd><code>BigData-ETL.com</code></dd>\n",
       "            </dl>\n",
       "        </div>\n",
       "        \n",
       "            </div>\n",
       "        "
      ],
      "text/plain": [
       "<pyspark.sql.session.SparkSession at 0x1ea2eea54f0>"
      ]
     },
     "execution_count": 9,
     "metadata": {},
     "output_type": "execute_result"
    }
   ],
   "source": [
    "spark"
   ]
  },
  {
   "cell_type": "code",
   "execution_count": 18,
   "id": "f5851e6a",
   "metadata": {},
   "outputs": [
    {
     "name": "stdout",
     "output_type": "stream",
     "text": [
      "+-----+---+----------+\n",
      "| Name|Age|Experience|\n",
      "+-----+---+----------+\n",
      "|Krish| 30|         5|\n",
      "|  Sid| 25|         9|\n",
      "| Mary| 41|         6|\n",
      "+-----+---+----------+\n",
      "\n",
      "<class 'pyspark.sql.dataframe.DataFrame'>\n"
     ]
    }
   ],
   "source": [
    "path = ['C:/Gayaz/python/PySpark/test.csv']\n",
    " \n",
    "df = spark.read.csv(path, sep='\\t',\n",
    "                       inferSchema=True, header=True)  #inferSchema=true if this not there all feilds are strings\n",
    "spark.read.option('header','true')\n",
    " \n",
    "# df1 = files.toPandas()\n",
    "# display(df1.head())\n",
    "# display(df1.tail())\n",
    "df.show();\n",
    "print(type(df))"
   ]
  },
  {
   "cell_type": "code",
   "execution_count": 21,
   "id": "613966d4",
   "metadata": {},
   "outputs": [
    {
     "name": "stdout",
     "output_type": "stream",
     "text": [
      "root\n",
      " |-- Name: string (nullable = true)\n",
      " |-- Age: integer (nullable = true)\n",
      " |-- Experience: integer (nullable = true)\n",
      "\n"
     ]
    }
   ],
   "source": [
    "type(df)\n",
    "df.printSchema()"
   ]
  },
  {
   "cell_type": "code",
   "execution_count": 25,
   "id": "ede47d28",
   "metadata": {},
   "outputs": [
    {
     "name": "stdout",
     "output_type": "stream",
     "text": [
      "+-----+\n",
      "| Name|\n",
      "+-----+\n",
      "|Krish|\n",
      "|  Sid|\n",
      "| Mary|\n",
      "+-----+\n",
      "\n"
     ]
    }
   ],
   "source": [
    "df.select('Name').show()\n"
   ]
  },
  {
   "cell_type": "code",
   "execution_count": 30,
   "id": "117de51d",
   "metadata": {},
   "outputs": [
    {
     "data": {
      "text/plain": [
       "[('Name', 'string'), ('Age', 'int'), ('Experience', 'int')]"
      ]
     },
     "execution_count": 30,
     "metadata": {},
     "output_type": "execute_result"
    }
   ],
   "source": [
    "df.dtypes"
   ]
  },
  {
   "cell_type": "code",
   "execution_count": 32,
   "id": "5d49fd16",
   "metadata": {},
   "outputs": [
    {
     "name": "stdout",
     "output_type": "stream",
     "text": [
      "+-------+-----+----------------+------------------+\n",
      "|summary| Name|             Age|        Experience|\n",
      "+-------+-----+----------------+------------------+\n",
      "|  count|    3|               3|                 3|\n",
      "|   mean| NULL|            32.0| 6.666666666666667|\n",
      "| stddev| NULL|8.18535277187245|2.0816659994661326|\n",
      "|    min|Krish|              25|                 5|\n",
      "|    max|  Sid|              41|                 9|\n",
      "+-------+-----+----------------+------------------+\n",
      "\n"
     ]
    }
   ],
   "source": [
    "df.describe().show()"
   ]
  },
  {
   "cell_type": "code",
   "execution_count": 19,
   "id": "87a16e2e",
   "metadata": {},
   "outputs": [
    {
     "name": "stdout",
     "output_type": "stream",
     "text": [
      "+-----+---+----------+--------------+\n",
      "| Name|Age|Experience|Experience + 2|\n",
      "+-----+---+----------+--------------+\n",
      "|Krish| 30|         5|             7|\n",
      "|  Sid| 25|         9|            11|\n",
      "| Mary| 41|         6|             8|\n",
      "+-----+---+----------+--------------+\n",
      "\n",
      "+-----+----------+--------------+\n",
      "| Name|Experience|Experience + 2|\n",
      "+-----+----------+--------------+\n",
      "|Krish|         5|             7|\n",
      "|  Sid|         9|            11|\n",
      "| Mary|         6|             8|\n",
      "+-----+----------+--------------+\n",
      "\n",
      "+-----+---+----------+--------------+\n",
      "| Name|Age|Experience|Experience + 2|\n",
      "+-----+---+----------+--------------+\n",
      "|Krish| 30|         5|             7|\n",
      "|  Sid| 25|         9|            11|\n",
      "| Mary| 41|         6|             8|\n",
      "+-----+---+----------+--------------+\n",
      "\n"
     ]
    }
   ],
   "source": [
    "#add column\n",
    "dfnew = df.withColumn(\"Experience + 2\",df['Experience']+2)\n",
    "dfnew.show()\n",
    "#drop column\n",
    "dfnew.drop('Age').show()\n"
   ]
  },
  {
   "cell_type": "code",
   "execution_count": 5,
   "id": "b7db7a5d",
   "metadata": {},
   "outputs": [
    {
     "data": {
      "text/plain": [
       "[Row(Name='Krish', Age=30, Experience=5)]"
      ]
     },
     "execution_count": 5,
     "metadata": {},
     "output_type": "execute_result"
    }
   ],
   "source": [
    "df.head(1)"
   ]
  },
  {
   "cell_type": "code",
   "execution_count": 6,
   "id": "656ef993",
   "metadata": {},
   "outputs": [
    {
     "name": "stdout",
     "output_type": "stream",
     "text": [
      "+-----+---+----------+\n",
      "| Name|Age|Experience|\n",
      "+-----+---+----------+\n",
      "|Krish| 30|         5|\n",
      "|  Sid| 25|         9|\n",
      "| Mary| 41|         6|\n",
      "+-----+---+----------+\n",
      "\n"
     ]
    }
   ],
   "source": [
    "df.show()"
   ]
  },
  {
   "cell_type": "code",
   "execution_count": 9,
   "id": "72db21ff",
   "metadata": {},
   "outputs": [
    {
     "name": "stdout",
     "output_type": "stream",
     "text": [
      "+-----+----------+\n",
      "| Name|Experience|\n",
      "+-----+----------+\n",
      "|Krish|         5|\n",
      "|  Sid|         9|\n",
      "| Mary|         6|\n",
      "+-----+----------+\n",
      "\n"
     ]
    }
   ],
   "source": [
    "newf = df.select('Name','Experience')\n",
    "type(newf)\n",
    "\n",
    "newf.show()"
   ]
  },
  {
   "cell_type": "code",
   "execution_count": 10,
   "id": "13bcdb7e",
   "metadata": {},
   "outputs": [
    {
     "data": {
      "text/plain": [
       "[('Name', 'string'), ('Age', 'int'), ('Experience', 'int')]"
      ]
     },
     "execution_count": 10,
     "metadata": {},
     "output_type": "execute_result"
    }
   ],
   "source": [
    "df.dtypes\n"
   ]
  },
  {
   "cell_type": "code",
   "execution_count": 11,
   "id": "2b7e43bf",
   "metadata": {},
   "outputs": [
    {
     "name": "stdout",
     "output_type": "stream",
     "text": [
      "+-------+-----+----------------+------------------+\n",
      "|summary| Name|             Age|        Experience|\n",
      "+-------+-----+----------------+------------------+\n",
      "|  count|    3|               3|                 3|\n",
      "|   mean| NULL|            32.0| 6.666666666666667|\n",
      "| stddev| NULL|8.18535277187245|2.0816659994661326|\n",
      "|    min|Krish|              25|                 5|\n",
      "|    max|  Sid|              41|                 9|\n",
      "+-------+-----+----------------+------------------+\n",
      "\n"
     ]
    }
   ],
   "source": [
    "df.describe().show()"
   ]
  },
  {
   "cell_type": "code",
   "execution_count": null,
   "id": "8177cf45",
   "metadata": {},
   "outputs": [],
   "source": []
  },
  {
   "cell_type": "code",
   "execution_count": null,
   "id": "93609267",
   "metadata": {},
   "outputs": [],
   "source": []
  },
  {
   "cell_type": "code",
   "execution_count": null,
   "id": "ba93cabb",
   "metadata": {},
   "outputs": [],
   "source": []
  },
  {
   "cell_type": "code",
   "execution_count": null,
   "id": "287ca99b",
   "metadata": {},
   "outputs": [],
   "source": []
  },
  {
   "cell_type": "code",
   "execution_count": null,
   "id": "34097386",
   "metadata": {},
   "outputs": [],
   "source": []
  }
 ],
 "metadata": {
  "kernelspec": {
   "display_name": "Python 3 (ipykernel)",
   "language": "python",
   "name": "python3"
  },
  "language_info": {
   "codemirror_mode": {
    "name": "ipython",
    "version": 3
   },
   "file_extension": ".py",
   "mimetype": "text/x-python",
   "name": "python",
   "nbconvert_exporter": "python",
   "pygments_lexer": "ipython3",
   "version": "3.9.12"
  }
 },
 "nbformat": 4,
 "nbformat_minor": 5
}
